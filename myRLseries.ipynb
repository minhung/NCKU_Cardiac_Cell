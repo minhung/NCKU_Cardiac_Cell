{
 "cells": [
  {
   "cell_type": "markdown",
   "metadata": {},
   "source": [
    "# Solution of an Example Problem in Perturbation Theory, Using Three Different Approaches in Sympy"
   ]
  },
  {
   "cell_type": "markdown",
   "metadata": {},
   "source": [
    "以James Powell的 <a href=http://www.math.usu.edu/powell/math5410/pertexample1.html>Solution of an Example Problem in Perturbation Theory, Using Three Different Approaches in Maple</a> 為藍本改寫。相關的參考資料請看最底下的連結。\n",
    "\n",
    "在求解之前，我們先設定顯示環境(sympy 0.7.4 版後可以有latex的顯示選項)，同時引入必要的模組："
   ]
  },
  {
   "cell_type": "code",
   "execution_count": 6,
   "metadata": {},
   "outputs": [],
   "source": [
    "import sympy\n",
    "#if sympy.__version__ > \"0.7.4\":\n",
    "#    from sympy.interactive import printing\n",
    "#    printing.init_printing(use_latex=True)\n",
    "#    from IPython.display import display\n",
    "\n",
    "from sympy import *\n",
    "from sympy.abc import t\n",
    "from sympy.solvers import solve"
   ]
  },
  {
   "cell_type": "markdown",
   "metadata": {},
   "source": [
    "In this section we will use Sympy to generate a power series solution to the differential equation\n",
    "\n",
    " $$\\frac{\\partial^2}{\\partial t^2}u(t)-u(t) = \\epsilon t u(t),\\quad u(0)=1, u'(0)=-1.$$\n",
    "\n",
    "The first step will be to write a candidate solution (called y(t) below) as a polynomial in t with eight terms and unknown coefficients $a(j)$ for each power  $t^j$"
   ]
  },
  {
   "cell_type": "code",
   "execution_count": 7,
   "metadata": {},
   "outputs": [
    {
     "data": {
      "text/plain": [
       "'an ='"
      ]
     },
     "metadata": {},
     "output_type": "display_data"
    },
    {
     "data": {
      "text/plain": [
       "an_0 + an_1*h + an_2*h**2 + an_3*h**3 + an_4*h**4 + an_5*h**5 + an_6*h**6 + an_7*h**7"
      ]
     },
     "metadata": {},
     "output_type": "display_data"
    }
   ],
   "source": [
    "h = symbols('h')\n",
    "deg = 8\n",
    "an = symarray('an',(deg))\n",
    "bn = symarray('bn',(deg))\n",
    "anseries = sum( an[i] * h**i\n",
    "         for i in range(deg) )\n",
    "bnseries = sum( bn[i] * h**i\n",
    "         for i in range(deg) )\n",
    "display(\"an =\",anseries)"
   ]
  },
  {
   "cell_type": "code",
   "execution_count": 10,
   "metadata": {},
   "outputs": [
    {
     "data": {
      "text/plain": [
       "h**7*(an_0 + an_1*h + an_2*h**2 + an_3*h**3 + an_4*h**4 + an_5*h**5 + an_6*h**6 + an_7*h**7)**7/40320 + h**6*(an_0 + an_1*h + an_2*h**2 + an_3*h**3 + an_4*h**4 + an_5*h**5 + an_6*h**6 + an_7*h**7)**6/5040 + h**5*(an_0 + an_1*h + an_2*h**2 + an_3*h**3 + an_4*h**4 + an_5*h**5 + an_6*h**6 + an_7*h**7)**5/720 + h**4*(an_0 + an_1*h + an_2*h**2 + an_3*h**3 + an_4*h**4 + an_5*h**5 + an_6*h**6 + an_7*h**7)**4/120 + h**3*(an_0 + an_1*h + an_2*h**2 + an_3*h**3 + an_4*h**4 + an_5*h**5 + an_6*h**6 + an_7*h**7)**3/24 + h**2*(an_0 + an_1*h + an_2*h**2 + an_3*h**3 + an_4*h**4 + an_5*h**5 + an_6*h**6 + an_7*h**7)**2/6 + h*(an_0 + an_1*h + an_2*h**2 + an_3*h**3 + an_4*h**4 + an_5*h**5 + an_6*h**6 + an_7*h**7)/2 + 1"
      ]
     },
     "metadata": {},
     "output_type": "display_data"
    }
   ],
   "source": [
    "ph1 = sum((anseries*h)**(i)/factorial(i+1) for i in range(deg) )\n",
    "display(ph1)"
   ]
  },
  {
   "cell_type": "code",
   "execution_count": 11,
   "metadata": {},
   "outputs": [
    {
     "data": {
      "text/plain": [
       "h*(h**7*(an_0 + an_1*h + an_2*h**2 + an_3*h**3 + an_4*h**4 + an_5*h**5 + an_6*h**6 + an_7*h**7)**7/40320 + h**6*(an_0 + an_1*h + an_2*h**2 + an_3*h**3 + an_4*h**4 + an_5*h**5 + an_6*h**6 + an_7*h**7)**6/5040 + h**5*(an_0 + an_1*h + an_2*h**2 + an_3*h**3 + an_4*h**4 + an_5*h**5 + an_6*h**6 + an_7*h**7)**5/720 + h**4*(an_0 + an_1*h + an_2*h**2 + an_3*h**3 + an_4*h**4 + an_5*h**5 + an_6*h**6 + an_7*h**7)**4/120 + h**3*(an_0 + an_1*h + an_2*h**2 + an_3*h**3 + an_4*h**4 + an_5*h**5 + an_6*h**6 + an_7*h**7)**3/24 + h**2*(an_0 + an_1*h + an_2*h**2 + an_3*h**3 + an_4*h**4 + an_5*h**5 + an_6*h**6 + an_7*h**7)**2/6 + h*(an_0 + an_1*h + an_2*h**2 + an_3*h**3 + an_4*h**4 + an_5*h**5 + an_6*h**6 + an_7*h**7)/2 + 1)*(bn_0 + bn_1*h + bn_2*h**2 + bn_3*h**3 + bn_4*h**4 + bn_5*h**5 + bn_6*h**6 + bn_7*h**7 + yn*(an_0 + an_1*h + an_2*h**2 + an_3*h**3 + an_4*h**4 + an_5*h**5 + an_6*h**6 + an_7*h**7)) + yn"
      ]
     },
     "metadata": {},
     "output_type": "display_data"
    }
   ],
   "source": [
    "yn = symbols('yn')\n",
    "ynew = yn + (h*ph1)*(anseries*yn+bnseries)\n",
    "display(ynew)"
   ]
  },
  {
   "cell_type": "code",
   "execution_count": 13,
   "metadata": {},
   "outputs": [
    {
     "name": "stdout",
     "output_type": "stream",
     "text": [
      "yn\n"
     ]
    }
   ],
   "source": [
    "eq0 = ynew.subs(h,0)\n",
    "print(eq0)"
   ]
  },
  {
   "cell_type": "code",
   "execution_count": 14,
   "metadata": {},
   "outputs": [
    {
     "name": "stdout",
     "output_type": "stream",
     "text": [
      "an_0*yn + bn_0\n"
     ]
    }
   ],
   "source": [
    "dynew = diff(ynew,h)\n",
    "eq1 = dynew.subs(h,0)\n",
    "print(eq1)"
   ]
  },
  {
   "cell_type": "code",
   "execution_count": 15,
   "metadata": {},
   "outputs": [
    {
     "name": "stdout",
     "output_type": "stream",
     "text": [
      "an_0*(an_0*yn + bn_0) + 2*an_1*yn + 2*bn_1\n"
     ]
    }
   ],
   "source": [
    "d2ynew = diff(dynew,h)\n",
    "eq2 = d2ynew.subs(h,0)\n",
    "print(eq2)"
   ]
  },
  {
   "cell_type": "code",
   "execution_count": 20,
   "metadata": {},
   "outputs": [
    {
     "data": {
      "text/plain": [
       "3*an_0*(an_1*yn + bn_1) + 6*an_2*yn + 6*bn_2 + 3*(an_0**2/3 + an_1)*(an_0*yn + bn_0)"
      ]
     },
     "metadata": {},
     "output_type": "display_data"
    }
   ],
   "source": [
    "d3ynew = diff(d2ynew,h)\n",
    "eq3 = d3ynew.subs(h,0)\n",
    "display(eq3)"
   ]
  },
  {
   "cell_type": "code",
   "execution_count": 2,
   "metadata": {},
   "outputs": [
    {
     "data": {
      "text/plain": [
       "'yt ='"
      ]
     },
     "metadata": {},
     "output_type": "display_data"
    },
    {
     "data": {
      "image/png": "[encoded data removed]",
      "text/latex": [
       "$$a_{0} + a_{1} t + a_{2} t^{2} + a_{3} t^{3} + a_{4} t^{4} + a_{5} t^{5} + a_{6} t^{6} + a_{7} t^{7}$$"
      ],
      "text/plain": [
       "                2       3       4       5       6       7\n",
       "a₀ + a₁⋅t + a₂⋅t  + a₃⋅t  + a₄⋅t  + a₅⋅t  + a₆⋅t  + a₇⋅t "
      ]
     },
     "metadata": {},
     "output_type": "display_data"
    }
   ],
   "source": [
    "eps = symbols('eps')\n",
    "deg = 8\n",
    "a = symarray('a',(deg))\n",
    "\n",
    "yt = sum( a[i] * t**i\n",
    "         for i in range(deg) )\n",
    "display(\"yt =\",yt)"
   ]
  },
  {
   "cell_type": "markdown",
   "metadata": {},
   "source": [
    "We now take calculate a derivative of y (just to see how it looks):"
   ]
  },
  {
   "cell_type": "code",
   "execution_count": 3,
   "metadata": {},
   "outputs": [
    {
     "data": {
      "text/plain": [
       "'dydt ='"
      ]
     },
     "metadata": {},
     "output_type": "display_data"
    },
    {
     "data": {
      "image/png": "[encoded data removed]",
      "text/latex": [
       "$$a_{1} + 2 a_{2} t + 3 a_{3} t^{2} + 4 a_{4} t^{3} + 5 a_{5} t^{4} + 6 a_{6} t^{5} + 7 a_{7} t^{6}$$"
      ],
      "text/plain": [
       "                    2         3         4         5         6\n",
       "a₁ + 2⋅a₂⋅t + 3⋅a₃⋅t  + 4⋅a₄⋅t  + 5⋅a₅⋅t  + 6⋅a₆⋅t  + 7⋅a₇⋅t "
      ]
     },
     "metadata": {},
     "output_type": "display_data"
    }
   ],
   "source": [
    "display(\"dydt =\",diff(yt,t))"
   ]
  },
  {
   "cell_type": "markdown",
   "metadata": {},
   "source": [
    "The differential equation is written all on the Left Hand Side and evaluated with the power series assumption for y(t), generating a complicated polynomial expression:"
   ]
  },
  {
   "cell_type": "code",
   "execution_count": 4,
   "metadata": {},
   "outputs": [
    {
     "data": {
      "text/plain": [
       "'eq:'"
      ]
     },
     "metadata": {},
     "output_type": "display_data"
    },
    {
     "data": {
      "image/png": "[encoded data removed]",
      "text/latex": [
       "$$- a_{0} - a_{1} t - a_{2} t^{2} - a_{3} t^{3} - a_{4} t^{4} - a_{5} t^{5} - a_{6} t^{6} - a_{7} t^{7} - eps t \\left(a_{0} + a_{1} t + a_{2} t^{2} + a_{3} t^{3} + a_{4} t^{4} + a_{5} t^{5} + a_{6} t^{6} + a_{7} t^{7}\\right) + 2 \\left(a_{2} + 3 a_{3} t + 6 a_{4} t^{2} + 10 a_{5} t^{3} + 15 a_{6} t^{4} + 21 a_{7} t^{5}\\right)$$"
      ],
      "text/plain": [
       "                 2       3       4       5       6       7         ⎛          \n",
       "-a₀ - a₁⋅t - a₂⋅t  - a₃⋅t  - a₄⋅t  - a₅⋅t  - a₆⋅t  - a₇⋅t  - eps⋅t⋅⎝a₀ + a₁⋅t \n",
       "\n",
       "      2       3       4       5       6       7⎞     ⎛                    2   \n",
       "+ a₂⋅t  + a₃⋅t  + a₄⋅t  + a₅⋅t  + a₆⋅t  + a₇⋅t ⎠ + 2⋅⎝a₂ + 3⋅a₃⋅t + 6⋅a₄⋅t  + \n",
       "\n",
       "       3          4          5⎞\n",
       "10⋅a₅⋅t  + 15⋅a₆⋅t  + 21⋅a₇⋅t ⎠"
      ]
     },
     "metadata": {},
     "output_type": "display_data"
    }
   ],
   "source": [
    "eq = diff(yt,t,t)-yt-eps*t*yt\n",
    "display(\"eq:\",eq)"
   ]
  },
  {
   "cell_type": "markdown",
   "metadata": {},
   "source": [
    "To get the leading order terms (coefficient of 1) we can simply substitute t=0 and save the resulting equation:"
   ]
  },
  {
   "cell_type": "code",
   "execution_count": 5,
   "metadata": {},
   "outputs": [
    {
     "name": "stdout",
     "output_type": "stream",
     "text": [
      "leading term: -a_0 + 2*a_2\n"
     ]
    }
   ],
   "source": [
    "eq0 = eq.subs(t,0)\n",
    "print \"leading term:\",eq0"
   ]
  },
  {
   "cell_type": "markdown",
   "metadata": {},
   "source": [
    "Remember that a(0) and a(1) are fixed by the initial conditions, so we need to solve eq0 to find a(2):"
   ]
  },
  {
   "cell_type": "code",
   "execution_count": 6,
   "metadata": {},
   "outputs": [
    {
     "data": {
      "text/plain": [
       "'a_2 = '"
      ]
     },
     "metadata": {},
     "output_type": "display_data"
    },
    {
     "data": {
      "image/png": "[encoded data removed]",
      "text/latex": [
       "$$\\frac{a_{0}}{2}$$"
      ],
      "text/plain": [
       "a₀\n",
       "──\n",
       "2 "
      ]
     },
     "metadata": {},
     "output_type": "display_data"
    }
   ],
   "source": [
    "a2 = solve(eq0,a[2])\n",
    "display(\"a_2 = \",a2[0])\n",
    "eqnew = poly(eq,t).subs(a[2],a2[0])\n",
    "asol = a\n",
    "asol[2] = a2[0]"
   ]
  },
  {
   "cell_type": "markdown",
   "metadata": {},
   "source": [
    "Now we are in a position to get the next equation. Here we do the it all in one step; eq1 is calculated by finding the coefficient of t to the first power in eq and then a(3) is defined to be the solution of that equation."
   ]
  },
  {
   "cell_type": "code",
   "execution_count": 7,
   "metadata": {},
   "outputs": [
    {
     "data": {
      "text/plain": [
       "'a_3 = '"
      ]
     },
     "metadata": {},
     "output_type": "display_data"
    },
    {
     "data": {
      "image/png": "[encoded data removed]",
      "text/latex": [
       "$$\\frac{a_{0} eps}{6} + \\frac{a_{1}}{6}$$"
      ],
      "text/plain": [
       "a₀⋅eps   a₁\n",
       "────── + ──\n",
       "  6      6 "
      ]
     },
     "metadata": {},
     "output_type": "display_data"
    }
   ],
   "source": [
    "eq1 = eqnew.as_expr().coeff(t)\n",
    "a3 = solve(eq1,a[3])\n",
    "display(\"a_3 = \",a3[0])\n",
    "eqnew = eqnew.subs(a[3],a3[0])\n",
    "asol[3] = a3[0]"
   ]
  },
  {
   "cell_type": "markdown",
   "metadata": {},
   "source": [
    "At this point we can see what pattern of commands we need to give. We will now proceed to solve for the next four coefficients of powers of t by defining equations as coefficients of t and then solving for the next unknown a(j)."
   ]
  },
  {
   "cell_type": "code",
   "execution_count": 8,
   "metadata": {},
   "outputs": [
    {
     "data": {
      "text/plain": [
       "'a_4 = '"
      ]
     },
     "metadata": {},
     "output_type": "display_data"
    },
    {
     "data": {
      "image/png": "[encoded data removed]",
      "text/latex": [
       "$$\\frac{a_{0}}{24} + \\frac{a_{1} eps}{12}$$"
      ],
      "text/plain": [
       "a₀   a₁⋅eps\n",
       "── + ──────\n",
       "24     12  "
      ]
     },
     "metadata": {},
     "output_type": "display_data"
    }
   ],
   "source": [
    "eq2 = eqnew.as_expr().coeff(t**2)  \n",
    "a4 = solve(eq2,a[4])\n",
    "display(\"a_4 = \",a4[0])\n",
    "eqnew = eqnew.subs(a[4],a4[0])\n",
    "asol[4] = a4[0]"
   ]
  },
  {
   "cell_type": "code",
   "execution_count": 9,
   "metadata": {},
   "outputs": [
    {
     "data": {
      "text/plain": [
       "'a_5 = '"
      ]
     },
     "metadata": {},
     "output_type": "display_data"
    },
    {
     "data": {
      "image/png": "[encoded data removed]",
      "text/latex": [
       "$$\\frac{a_{0} eps}{30} + \\frac{a_{1}}{120}$$"
      ],
      "text/plain": [
       "a₀⋅eps    a₁\n",
       "────── + ───\n",
       "  30     120"
      ]
     },
     "metadata": {},
     "output_type": "display_data"
    }
   ],
   "source": [
    "eq3 = eqnew.as_expr().coeff(t**3)\n",
    "#print \"eq3:\",eq3\n",
    "a5 = solve(eq3,a[5])\n",
    "display(\"a_5 = \",a5[0])\n",
    "eqnew = eqnew.subs(a[5],a5[0])\n",
    "asol[5] = a5[0]\n"
   ]
  },
  {
   "cell_type": "code",
   "execution_count": 10,
   "metadata": {},
   "outputs": [
    {
     "data": {
      "text/plain": [
       "'a_6 = '"
      ]
     },
     "metadata": {},
     "output_type": "display_data"
    },
    {
     "data": {
      "image/png": "[encoded data removed]",
      "text/latex": [
       "$$\\frac{a_{0} eps^{2}}{180} + \\frac{a_{0}}{720} + \\frac{a_{1} eps}{120}$$"
      ],
      "text/plain": [
       "      2               \n",
       "a₀⋅eps     a₀   a₁⋅eps\n",
       "─────── + ─── + ──────\n",
       "  180     720    120  "
      ]
     },
     "metadata": {},
     "output_type": "display_data"
    }
   ],
   "source": [
    "eq4 = eqnew.as_expr().coeff(t**4)\n",
    "a6 = solve(eq4,a[6])\n",
    "display(\"a_6 = \",a6[0])\n",
    "eqnew = eqnew.subs(a[6],a6[0])\n",
    "asol[6] = a6[0]"
   ]
  },
  {
   "cell_type": "code",
   "execution_count": 11,
   "metadata": {},
   "outputs": [
    {
     "data": {
      "text/plain": [
       "'a_7 = '"
      ]
     },
     "metadata": {},
     "output_type": "display_data"
    },
    {
     "data": {
      "image/png": "[encoded data removed]",
      "text/latex": [
       "$$\\frac{a_{0} eps}{560} + \\frac{a_{1} eps^{2}}{504} + \\frac{a_{1}}{5040}$$"
      ],
      "text/plain": [
       "               2       \n",
       "a₀⋅eps   a₁⋅eps     a₁ \n",
       "────── + ─────── + ────\n",
       " 560       504     5040"
      ]
     },
     "metadata": {},
     "output_type": "display_data"
    },
    {
     "data": {
      "text/plain": [
       "'asol'"
      ]
     },
     "metadata": {},
     "output_type": "display_data"
    },
    {
     "data": {
      "text/plain": [
       "array([a_0, a_1, a_0/2, a_0*eps/6 + a_1/6, a_0/24 + a_1*eps/12,\n",
       "       a_0*eps/30 + a_1/120, a_0*eps**2/180 + a_0/720 + a_1*eps/120,\n",
       "       a_0*eps/560 + a_1*eps**2/504 + a_1/5040], dtype=object)"
      ]
     },
     "metadata": {},
     "output_type": "display_data"
    }
   ],
   "source": [
    "eq5 = eqnew.as_expr().coeff(t**5)\n",
    "a7 = solve(eq5,a[7])\n",
    "display(\"a_7 = \",a7[0])\n",
    "eqnew = eqnew.subs(a[7],a7[0])\n",
    "asol[7] = a7[0]   \n",
    "\n",
    "display(\"asol\",asol)"
   ]
  },
  {
   "cell_type": "markdown",
   "metadata": {},
   "source": [
    "Let's see what the solution looks like now. We will define ysol(t) to be the eight term, seventh order polynomial we have found:"
   ]
  },
  {
   "cell_type": "code",
   "execution_count": 12,
   "metadata": {},
   "outputs": [
    {
     "data": {
      "text/plain": [
       "'ysol'"
      ]
     },
     "metadata": {},
     "output_type": "display_data"
    },
    {
     "data": {
      "image/png": "[encoded data removed]",
      "text/latex": [
       "$$\\frac{a_{0} t^{2}}{2} + a_{0} + a_{1} t + t^{7} \\left(\\frac{a_{0} eps}{560} + \\frac{a_{1} eps^{2}}{504} + \\frac{a_{1}}{5040}\\right) + t^{6} \\left(\\frac{a_{0} eps^{2}}{180} + \\frac{a_{0}}{720} + \\frac{a_{1} eps}{120}\\right) + t^{5} \\left(\\frac{a_{0} eps}{30} + \\frac{a_{1}}{120}\\right) + t^{4} \\left(\\frac{a_{0}}{24} + \\frac{a_{1} eps}{12}\\right) + t^{3} \\left(\\frac{a_{0} eps}{6} + \\frac{a_{1}}{6}\\right)$$"
      ],
      "text/plain": [
       "    2                  ⎛               2       ⎞      ⎛      2               ⎞\n",
       "a₀⋅t                 7 ⎜a₀⋅eps   a₁⋅eps     a₁ ⎟    6 ⎜a₀⋅eps     a₀   a₁⋅eps⎟\n",
       "───── + a₀ + a₁⋅t + t ⋅⎜────── + ─────── + ────⎟ + t ⋅⎜─────── + ─── + ──────⎟\n",
       "  2                    ⎝ 560       504     5040⎠      ⎝  180     720    120  ⎠\n",
       "\n",
       "                                                          \n",
       "    5 ⎛a₀⋅eps    a₁⎞    4 ⎛a₀   a₁⋅eps⎞    3 ⎛a₀⋅eps   a₁⎞\n",
       " + t ⋅⎜────── + ───⎟ + t ⋅⎜── + ──────⎟ + t ⋅⎜────── + ──⎟\n",
       "      ⎝  30     120⎠      ⎝24     12  ⎠      ⎝  6      6 ⎠"
      ]
     },
     "metadata": {},
     "output_type": "display_data"
    }
   ],
   "source": [
    "ysol = sum( asol[i] * t**i\n",
    "         for i in range(deg) )\n",
    "\n",
    "y0 = ysol.subs(a[1],0)\n",
    "#print \"y0\",y0\n",
    "y1 = ysol.subs(a[0],0)\n",
    "#print \"y1\",y1\n",
    "display(\"ysol\",ysol)"
   ]
  },
  {
   "cell_type": "markdown",
   "metadata": {},
   "source": [
    "##### Plotting The Results"
   ]
  },
  {
   "cell_type": "code",
   "execution_count": 13,
   "metadata": {},
   "outputs": [],
   "source": [
    "## Plotting The Results\n",
    "%matplotlib inline\n",
    "import matplotlib.pyplot as plt\n",
    "import numpy as np\n",
    "x_t = np.linspace(0, 7, 50)\n",
    "y_t = ysol.subs([(a[0],1),(a[1],-1),(eps,0.04)])\n",
    "f_t = lambdify(t, y_t,modules=['numpy'])\n"
   ]
  },
  {
   "cell_type": "markdown",
   "metadata": {},
   "source": [
    "以上是在進行準備工作，其中 \"%matplotlib inline\" 是讓matplotlib產生的圖可以在ipython notebook中顯示。\n",
    "以下開始畫圖，設定要畫的的x,y數據list....，最後的 \"plt.show()\" 才會產生圖"
   ]
  },
  {
   "cell_type": "code",
   "execution_count": 14,
   "metadata": {},
   "outputs": [
    {
     "data": {
      "image/png": "[encoded data removed]",
      "text/plain": [
       "<matplotlib.figure.Figure at 0x393fb50>"
      ]
     },
     "metadata": {},
     "output_type": "display_data"
    }
   ],
   "source": [
    "plt.plot(x_t,f_t(x_t)) \n",
    "#\n",
    "#    # 設定圖的範圍, 不設的話，系統會自行決定\n",
    "plt.xlim(0,7) \n",
    "plt.ylim(-1,5)\n",
    "#    # 照需要寫入x 軸和y軸的 label 以及title\n",
    "#\n",
    "plt.xlabel(\"x-axis\")   \n",
    "plt.ylabel(\"y-axis\")   \n",
    "plt.title(\"Power Series Solution\") \n",
    "#    # 在這個指令之前，都還在做畫圖的動作 \n",
    "#    # 這個指令算是 \"秀圖\" \n",
    "plt.show() "
   ]
  },
  {
   "cell_type": "markdown",
   "metadata": {},
   "source": [
    "## Perturbation Solution"
   ]
  },
  {
   "cell_type": "markdown",
   "metadata": {},
   "source": [
    "在這個小節，我們將使用regular perturbation theory解前述微分方程。首先我們將u0、u1、u2都設成函數（symbolic)，同時將perturbed solution, ut代入方程式"
   ]
  },
  {
   "cell_type": "code",
   "execution_count": 15,
   "metadata": {},
   "outputs": [
    {
     "data": {
      "image/png": "[encoded data removed]",
      "text/latex": [
       "$$eps^{2} \\operatorname{u_{2}}{\\left (t \\right )} + eps \\operatorname{u_{1}}{\\left (t \\right )} + \\operatorname{u_{0}}{\\left (t \\right )}$$"
      ],
      "text/plain": [
       "   2                          \n",
       "eps ⋅u₂(t) + eps⋅u₁(t) + u₀(t)"
      ]
     },
     "metadata": {},
     "output_type": "display_data"
    },
    {
     "data": {
      "image/png": "[encoded data removed]",
      "text/latex": [
       "$$- eps^{2} \\operatorname{u_{2}}{\\left (t \\right )} + eps^{2} \\frac{d^{2}}{d t^{2}}  \\operatorname{u_{2}}{\\left (t \\right )} - eps t \\left(eps^{2} \\operatorname{u_{2}}{\\left (t \\right )} + eps \\operatorname{u_{1}}{\\left (t \\right )} + \\operatorname{u_{0}}{\\left (t \\right )}\\right) - eps \\operatorname{u_{1}}{\\left (t \\right )} + eps \\frac{d^{2}}{d t^{2}}  \\operatorname{u_{1}}{\\left (t \\right )} - \\operatorname{u_{0}}{\\left (t \\right )} + \\frac{d^{2}}{d t^{2}}  \\operatorname{u_{0}}{\\left (t \\right )}$$"
      ],
      "text/plain": [
       "                      2                                                       \n",
       "     2            2  d                 ⎛   2                          ⎞       \n",
       "- eps ⋅u₂(t) + eps ⋅───(u₂(t)) - eps⋅t⋅⎝eps ⋅u₂(t) + eps⋅u₁(t) + u₀(t)⎠ - eps⋅\n",
       "                      2                                                       \n",
       "                    dt                                                        \n",
       "\n",
       "              2                    2       \n",
       "             d                    d        \n",
       "u₁(t) + eps⋅───(u₁(t)) - u₀(t) + ───(u₀(t))\n",
       "              2                    2       \n",
       "            dt                   dt        "
      ]
     },
     "metadata": {},
     "output_type": "display_data"
    }
   ],
   "source": [
    "u0 = Function('u0')\n",
    "u1 = Function('u1')\n",
    "u2 = Function('u2')\n",
    "ut = Function('ut')\n",
    "ut = u0(t)+eps*u1(t)+eps**2*u2(t)\n",
    "\n",
    "display(ut)\n",
    "eqpert = diff(ut,t,t)-ut-eps*t*ut \n",
    "display(eqpert)"
   ]
  },
  {
   "cell_type": "markdown",
   "metadata": {},
   "source": [
    "To get the zeroth order perturbation equation we just substitute  epsilon = 0 into the governing equation and save the result as the variable eqp0:"
   ]
  },
  {
   "cell_type": "code",
   "execution_count": 16,
   "metadata": {},
   "outputs": [
    {
     "data": {
      "text/plain": [
       "'leading term:'"
      ]
     },
     "metadata": {},
     "output_type": "display_data"
    },
    {
     "data": {
      "image/png": "[encoded data removed]",
      "text/latex": [
       "$$- \\operatorname{u_{0}}{\\left (t \\right )} + \\frac{d^{2}}{d t^{2}}  \\operatorname{u_{0}}{\\left (t \\right )}$$"
      ],
      "text/plain": [
       "           2       \n",
       "          d        \n",
       "-u₀(t) + ───(u₀(t))\n",
       "           2       \n",
       "         dt        "
      ]
     },
     "metadata": {},
     "output_type": "display_data"
    }
   ],
   "source": [
    "eqp0 = eqpert.subs(eps,0)\n",
    "display(\"leading term:\",eqp0)"
   ]
  },
  {
   "cell_type": "markdown",
   "metadata": {},
   "source": [
    "To get the first order (in  epsilon ) equation we can take the first derivative of eqpert, with respect to  epsilon , and substitute  epsilon = 0 into the result to give the first order perturbation equation, which we will save as a variable `epq1'."
   ]
  },
  {
   "cell_type": "code",
   "execution_count": 17,
   "metadata": {},
   "outputs": [
    {
     "data": {
      "text/plain": [
       "'first order:'"
      ]
     },
     "metadata": {},
     "output_type": "display_data"
    },
    {
     "data": {
      "image/png": "[encoded data removed]",
      "text/latex": [
       "$$- t \\operatorname{u_{0}}{\\left (t \\right )} - \\operatorname{u_{1}}{\\left (t \\right )} + \\frac{d^{2}}{d t^{2}}  \\operatorname{u_{1}}{\\left (t \\right )}$$"
      ],
      "text/plain": [
       "                     2       \n",
       "                    d        \n",
       "-t⋅u₀(t) - u₁(t) + ───(u₁(t))\n",
       "                     2       \n",
       "                   dt        "
      ]
     },
     "metadata": {},
     "output_type": "display_data"
    }
   ],
   "source": [
    "eqp1 = diff(eqpert,eps).subs(eps,0)\n",
    "display(\"first order:\",eqp1)"
   ]
  },
  {
   "cell_type": "markdown",
   "metadata": {},
   "source": [
    "Now the beat roles on; to find the second order equation we take two derivatives and evaluate at  epsilon = 0 ; the factor of 1/2 is just because of the division by 2 factorial in the Maclaurin expansion."
   ]
  },
  {
   "cell_type": "code",
   "execution_count": 18,
   "metadata": {},
   "outputs": [
    {
     "data": {
      "text/plain": [
       "'Second order:'"
      ]
     },
     "metadata": {},
     "output_type": "display_data"
    },
    {
     "data": {
      "image/png": "[encoded data removed]",
      "text/latex": [
       "$$- 2 t \\operatorname{u_{1}}{\\left (t \\right )} - 2 \\operatorname{u_{2}}{\\left (t \\right )} + 2 \\frac{d^{2}}{d t^{2}}  \\operatorname{u_{2}}{\\left (t \\right )}$$"
      ],
      "text/plain": [
       "                           2       \n",
       "                          d        \n",
       "-2⋅t⋅u₁(t) - 2⋅u₂(t) + 2⋅───(u₂(t))\n",
       "                           2       \n",
       "                         dt        "
      ]
     },
     "metadata": {},
     "output_type": "display_data"
    }
   ],
   "source": [
    "eqp2 = diff(eqpert,eps,eps).subs(eps,0)\n",
    "display(\"Second order:\",eqp2)"
   ]
  },
  {
   "cell_type": "markdown",
   "metadata": {},
   "source": [
    "Knowing the perturbation equations we can begin to determine the solutions. Using the command dsolve to solve the zeroth order equation gives a general solution"
   ]
  },
  {
   "cell_type": "code",
   "execution_count": 19,
   "metadata": {},
   "outputs": [
    {
     "data": {
      "image/png": "[encoded data removed]",
      "text/latex": [
       "$$\\operatorname{u_{0}}{\\left (t \\right )} = C_{1} e^{- t} + C_{2} e^{t}$$"
      ],
      "text/plain": [
       "            -t       t\n",
       "u₀(t) = C₁⋅ℯ   + C₂⋅ℯ "
      ]
     },
     "execution_count": 19,
     "metadata": {},
     "output_type": "execute_result"
    }
   ],
   "source": [
    "from sympy import dsolve\n",
    "dsolve(eqp0,u0(t))"
   ]
  },
  {
   "cell_type": "markdown",
   "metadata": {},
   "source": [
    "Manually solve the equation with initial conditions, $u0(0)=1$, $u0'(0)=-1$ and we have"
   ]
  },
  {
   "cell_type": "code",
   "execution_count": 20,
   "metadata": {},
   "outputs": [
    {
     "data": {
      "text/plain": [
       "'u0sol'"
      ]
     },
     "metadata": {},
     "output_type": "display_data"
    },
    {
     "data": {
      "image/png": "[encoded data removed]",
      "text/latex": [
       "$$e^{- t}$$"
      ],
      "text/plain": [
       " -t\n",
       "ℯ  "
      ]
     },
     "metadata": {},
     "output_type": "display_data"
    }
   ],
   "source": [
    "C1,C2 = symbols('C1 C2')\n",
    "u0g = C1*exp(t) + C2*exp(-t)\n",
    "coef=solve([Eq(u0g.subs(t,0),1),Eq(diff(u0g,t).subs(t,0),-1)],[C1,C2])\n",
    "u0sol = u0g.subs([(C1,coef.get(C1)),(C2,coef.get(C2))])\n",
    "display(\"u0sol\",u0sol)"
   ]
  },
  {
   "cell_type": "markdown",
   "metadata": {},
   "source": [
    "At the next order, solving for the first correction term, $u1(t)$, generates the following function:"
   ]
  },
  {
   "cell_type": "code",
   "execution_count": 21,
   "metadata": {},
   "outputs": [
    {
     "data": {
      "image/png": "[encoded data removed]",
      "text/latex": [
       "$$\\operatorname{u_{1}}{\\left (t \\right )} = C_{2} e^{t} + \\left(C_{1} - \\frac{t^{2}}{4} - \\frac{t}{4}\\right) e^{- t}$$"
      ],
      "text/plain": [
       "                ⎛      2    ⎞    \n",
       "            t   ⎜     t    t⎟  -t\n",
       "u₁(t) = C₂⋅ℯ  + ⎜C₁ - ── - ─⎟⋅ℯ  \n",
       "                ⎝     4    4⎠    "
      ]
     },
     "execution_count": 21,
     "metadata": {},
     "output_type": "execute_result"
    }
   ],
   "source": [
    "dsolve(eqp1.subs(u0(t),u0sol),u1(t))"
   ]
  },
  {
   "cell_type": "markdown",
   "metadata": {},
   "source": [
    "Since the initial conditions are included previously, the initial data will be zero."
   ]
  },
  {
   "cell_type": "code",
   "execution_count": 22,
   "metadata": {},
   "outputs": [
    {
     "data": {
      "text/plain": [
       "'u1sol'"
      ]
     },
     "metadata": {},
     "output_type": "display_data"
    },
    {
     "data": {
      "image/png": "[encoded data removed]",
      "text/latex": [
       "$$\\left(- \\frac{t^{2}}{4} - \\frac{t}{4} - \\frac{1}{8}\\right) e^{- t} + \\frac{e^{t}}{8}$$"
      ],
      "text/plain": [
       "⎛   2        ⎞        t\n",
       "⎜  t    t   1⎟  -t   ℯ \n",
       "⎜- ── - ─ - ─⎟⋅ℯ   + ──\n",
       "⎝  4    4   8⎠       8 "
      ]
     },
     "metadata": {},
     "output_type": "display_data"
    }
   ],
   "source": [
    "u1g = C1*exp(t) + (C2 - t**2/4 - t/4)*exp(-t)\n",
    "coef=solve([Eq(u1g.subs(t,0),0),Eq(diff(u1g,t).subs(t,0),0)],[C1,C2])\n",
    "u1sol = u1g.subs([(C1,coef.get(C1)),(C2,coef.get(C2))])\n",
    "display(\"u1sol\",u1sol)"
   ]
  },
  {
   "cell_type": "markdown",
   "metadata": {},
   "source": [
    "Solving for the second order correction (that is, order  $\\epsilon^2$ ) gives the kind of function that makes us happy to be using Sympy:"
   ]
  },
  {
   "cell_type": "code",
   "execution_count": 23,
   "metadata": {},
   "outputs": [
    {
     "data": {
      "image/png": "[encoded data removed]",
      "text/latex": [
       "$$\\operatorname{u_{2}}{\\left (t \\right )} = \\left(C_{1} + \\frac{t^{2}}{32} - \\frac{t}{32}\\right) e^{t} + \\left(C_{2} + \\frac{t^{4}}{32} + \\frac{5 t^{3}}{48} + \\frac{3 t^{2}}{16} + \\frac{3 t}{16}\\right) e^{- t}$$"
      ],
      "text/plain": [
       "        ⎛      2     ⎞      ⎛      4      3      2      ⎞    \n",
       "        ⎜     t    t ⎟  t   ⎜     t    5⋅t    3⋅t    3⋅t⎟  -t\n",
       "u₂(t) = ⎜C₁ + ── - ──⎟⋅ℯ  + ⎜C₂ + ── + ──── + ──── + ───⎟⋅ℯ  \n",
       "        ⎝     32   32⎠      ⎝     32    48     16     16⎠    "
      ]
     },
     "execution_count": 23,
     "metadata": {},
     "output_type": "execute_result"
    }
   ],
   "source": [
    "dsolve(eqp2.subs(u1(t),u1sol),u2(t))"
   ]
  },
  {
   "cell_type": "markdown",
   "metadata": {},
   "source": [
    "Since the initial conditions are included previously, the initial data will be zero."
   ]
  },
  {
   "cell_type": "code",
   "execution_count": 24,
   "metadata": {},
   "outputs": [
    {
     "data": {
      "text/plain": [
       "'u2sol'"
      ]
     },
     "metadata": {},
     "output_type": "display_data"
    },
    {
     "data": {
      "image/png": "[encoded data removed]",
      "text/latex": [
       "$$\\left(\\frac{t^{2}}{32} - \\frac{t}{32} - \\frac{5}{64}\\right) e^{t} + \\left(\\frac{t^{4}}{32} + \\frac{5 t^{3}}{48} + \\frac{3 t^{2}}{16} + \\frac{3 t}{16} + \\frac{5}{64}\\right) e^{- t}$$"
      ],
      "text/plain": [
       "⎛ 2          ⎞      ⎛ 4      3      2           ⎞    \n",
       "⎜t    t    5 ⎟  t   ⎜t    5⋅t    3⋅t    3⋅t   5 ⎟  -t\n",
       "⎜── - ── - ──⎟⋅ℯ  + ⎜── + ──── + ──── + ─── + ──⎟⋅ℯ  \n",
       "⎝32   32   64⎠      ⎝32    48     16     16   64⎠    "
      ]
     },
     "metadata": {},
     "output_type": "display_data"
    }
   ],
   "source": [
    "u2g = (C1 + t**2/32 - t/32)*exp(t) + (C2 + t**4/32 + 5*t**3/48 + 3*t**2/16 + 3*t/16)*exp(-t)\n",
    "coef=solve([Eq(u2g.subs(t,0),0),Eq(diff(u2g,t).subs(t,0),0)],[C1,C2])\n",
    "u2sol = u2g.subs([(C1,coef.get(C1)),(C2,coef.get(C2))])\n",
    "display(\"u2sol\",u2sol)"
   ]
  },
  {
   "cell_type": "markdown",
   "metadata": {},
   "source": [
    "These solutions can now be substituted back into the original perturbation ansatz to give our approximate asymptotic solution"
   ]
  },
  {
   "cell_type": "code",
   "execution_count": 25,
   "metadata": {},
   "outputs": [
    {
     "data": {
      "text/plain": [
       "'Solution'"
      ]
     },
     "metadata": {},
     "output_type": "display_data"
    },
    {
     "data": {
      "image/png": "[encoded data removed]",
      "text/latex": [
       "$$eps^{2} \\left(\\left(\\frac{t^{2}}{32} - \\frac{t}{32} - \\frac{5}{64}\\right) e^{t} + \\left(\\frac{t^{4}}{32} + \\frac{5 t^{3}}{48} + \\frac{3 t^{2}}{16} + \\frac{3 t}{16} + \\frac{5}{64}\\right) e^{- t}\\right) + eps \\left(\\left(- \\frac{t^{2}}{4} - \\frac{t}{4} - \\frac{1}{8}\\right) e^{- t} + \\frac{e^{t}}{8}\\right) + e^{- t}$$"
      ],
      "text/plain": [
       "     ⎛⎛ 2          ⎞      ⎛ 4      3      2           ⎞    ⎞       ⎛⎛   2     \n",
       "   2 ⎜⎜t    t    5 ⎟  t   ⎜t    5⋅t    3⋅t    3⋅t   5 ⎟  -t⎟       ⎜⎜  t    t \n",
       "eps ⋅⎜⎜── - ── - ──⎟⋅ℯ  + ⎜── + ──── + ──── + ─── + ──⎟⋅ℯ  ⎟ + eps⋅⎜⎜- ── - ─ \n",
       "     ⎝⎝32   32   64⎠      ⎝32    48     16     16   64⎠    ⎠       ⎝⎝  4    4 \n",
       "\n",
       "   ⎞        t⎞      \n",
       "  1⎟  -t   ℯ ⎟    -t\n",
       "- ─⎟⋅ℯ   + ──⎟ + ℯ  \n",
       "  8⎠       8 ⎠      "
      ]
     },
     "metadata": {},
     "output_type": "display_data"
    }
   ],
   "source": [
    "upert = ut.subs([(u0(t),u0sol),(u1(t),u1sol),(u2(t),u2sol)])\n",
    "display(\"Solution\",upert)"
   ]
  },
  {
   "cell_type": "markdown",
   "metadata": {},
   "source": [
    "底下是Perturbation Solution的圖形，繪圖過程含前面級數解的部份相同。"
   ]
  },
  {
   "cell_type": "code",
   "execution_count": 26,
   "metadata": {},
   "outputs": [
    {
     "data": {
      "image/png": "[encoded data removed]",
      "text/plain": [
       "<matplotlib.figure.Figure at 0x4842f90>"
      ]
     },
     "metadata": {},
     "output_type": "display_data"
    }
   ],
   "source": [
    "x_pert = np.linspace(0, 7, 50)\n",
    "y_pert = upert.subs([(eps,0.04)])\n",
    "f_pert = lambdify(t, y_pert,modules=['numpy'])\n",
    "plt.plot(x_pert,f_pert(x_pert)) \n",
    "#\n",
    "#    # 設定圖的範圍, 不設的話，系統會自行決定\n",
    "plt.xlim(0,7) \n",
    "plt.ylim(-1,5)\n",
    "#    # 照需要寫入x 軸和y軸的 label 以及title\n",
    "#\n",
    "plt.xlabel(\"x-axis\")   \n",
    "plt.ylabel(\"y-axis\")   \n",
    "plt.title(\"Perturbation Solution\") \n",
    "#    # 在這個指令之前，都還在做畫圖的動作 \n",
    "#    # 這個指令算是 \"秀圖\" \n",
    "plt.show() "
   ]
  },
  {
   "cell_type": "markdown",
   "metadata": {},
   "source": [
    "## Numerical Solution"
   ]
  },
  {
   "cell_type": "markdown",
   "metadata": {},
   "source": [
    "在這個小節，我們將以scipy模組，以數值方法對微分方程求解。作法是先定義一函數(un)表示first order微分方程系統，之後再以odeint數值積分："
   ]
  },
  {
   "cell_type": "code",
   "execution_count": 27,
   "metadata": {},
   "outputs": [
    {
     "data": {
      "image/png": "[encoded data removed]",
      "text/plain": [
       "<matplotlib.figure.Figure at 0x4870250>"
      ]
     },
     "metadata": {},
     "output_type": "display_data"
    }
   ],
   "source": [
    "from scipy.integrate import odeint\n",
    "\n",
    "epsilon = 0.04\n",
    "\n",
    "def un(z,tt):\n",
    "    x,y=z[0],z[1]\n",
    "    dxdt= y\n",
    "    dydt= (1.0+epsilon*tt)*x\n",
    "    return [dxdt,dydt]\n",
    "\n",
    "tt=np.linspace(0, 7, 1000)\n",
    "x0,y0=1.0,-1.0\n",
    "sol=odeint(un,[x0,y0],tt)\n",
    "Xn,Yn=sol[:,0],sol[:,1]\n",
    "plt.plot(tt,Xn)\n",
    "plt.show() "
   ]
  },
  {
   "cell_type": "markdown",
   "metadata": {},
   "source": [
    "#### Solve the perturbed ODE using dsolve"
   ]
  },
  {
   "cell_type": "markdown",
   "metadata": {},
   "source": [
    "我們可以試著直接以dsolve對微分方程求解"
   ]
  },
  {
   "cell_type": "code",
   "execution_count": 28,
   "metadata": {},
   "outputs": [
    {
     "data": {
      "image/png": "[encoded data removed]",
      "text/latex": [
       "$$- eps t \\operatorname{uh}{\\left (t \\right )} - \\operatorname{uh}{\\left (t \\right )} + \\frac{d^{2}}{d t^{2}}  \\operatorname{uh}{\\left (t \\right )}$$"
      ],
      "text/plain": [
       "                         2       \n",
       "                        d        \n",
       "-eps⋅t⋅uh(t) - uh(t) + ───(uh(t))\n",
       "                         2       \n",
       "                       dt        "
      ]
     },
     "metadata": {},
     "output_type": "display_data"
    },
    {
     "data": {
      "image/png": "[encoded data removed]",
      "text/latex": [
       "$$\\operatorname{uh}{\\left (t \\right )} = C_{2} \\left(\\frac{eps^{2} t^{8}}{24} + \\frac{eps t^{7}}{24} + \\frac{eps t^{5}}{24} + \\frac{eps t^{3}}{2} + \\frac{t^{4}}{24} + \\frac{t^{2}}{2} + 1\\right) + C_{1} t \\left(\\frac{eps t^{4}}{6} + \\frac{t^{2}}{6} + 1\\right) + \\mathcal{O}\\left(t^{6}\\right)$$"
      ],
      "text/plain": [
       "           ⎛   2  8        7        5        3    4    2    ⎞        ⎛     4  \n",
       "           ⎜eps ⋅t    eps⋅t    eps⋅t    eps⋅t    t    t     ⎟        ⎜eps⋅t   \n",
       "uh(t) = C₂⋅⎜─────── + ────── + ────── + ────── + ── + ── + 1⎟ + C₁⋅t⋅⎜────── +\n",
       "           ⎝   24       24       24       2      24   2     ⎠        ⎝  6     \n",
       "\n",
       "  2    ⎞        \n",
       " t     ⎟    ⎛ 6⎞\n",
       " ── + 1⎟ + O⎝t ⎠\n",
       " 6     ⎠        "
      ]
     },
     "execution_count": 28,
     "metadata": {},
     "output_type": "execute_result"
    }
   ],
   "source": [
    "uh = Function('uh')\n",
    "meqpert = diff(uh(t),t,t)-uh(t)-eps*t*uh(t)\n",
    "display(meqpert)\n",
    "dsolve(meqpert,uh(t))"
   ]
  },
  {
   "cell_type": "markdown",
   "metadata": {},
   "source": [
    "由於sympy無法得到closed-form solution，所以dsolve應該是以級數解求解"
   ]
  },
  {
   "cell_type": "markdown",
   "metadata": {},
   "source": [
    "## Comparing the Three Results"
   ]
  },
  {
   "cell_type": "markdown",
   "metadata": {},
   "source": [
    "Now we are in position to show all three graphs calculated above on one set of axes. Here we will plot the results for t running from 0 to 7 (as above) and set the horizontal window to display between -1 and 5. Also we will label the axes to get full style points from our professor."
   ]
  },
  {
   "cell_type": "code",
   "execution_count": 29,
   "metadata": {},
   "outputs": [
    {
     "data": {
      "image/png": "[encoded data removed]",
      "text/plain": [
       "<matplotlib.figure.Figure at 0x546af10>"
      ]
     },
     "metadata": {},
     "output_type": "display_data"
    }
   ],
   "source": [
    "# Power Series Solution\n",
    "plt.plot(x_t,f_t(x_t),'y.-') \n",
    "#Perturbation Solution\n",
    "plt.plot(x_pert,f_pert(x_pert),'ro-')\n",
    "#Numerical Solution\n",
    "plt.plot(tt,Xn,'b-') \n",
    "#\n",
    "#    # 設定圖的範圍, 不設的話，系統會自行決定\n",
    "plt.xlim(0,7) \n",
    "plt.ylim(-1,5)\n",
    "#    # 照需要寫入x 軸和y軸的 label 以及title\n",
    "#\n",
    "plt.xlabel(\"x-axis\")   \n",
    "plt.ylabel(\"y-axis\")   \n",
    "plt.title(\"Solution\") \n",
    "plt.show() "
   ]
  },
  {
   "cell_type": "markdown",
   "metadata": {},
   "source": [
    "In the graph above the color blue denotes the numerical solution, the color green denotes the perturbation series solution, and the color red denotes the power series (polynomial in t) solution. All three agree rather well up to t=2.4, after which the polynomial solution diverges drastically. By comparison, the the asymptotic perturbation solution is basically indistinguishable until after t=5 or so, and even after that it is still behaving properly!"
   ]
  },
  {
   "cell_type": "code",
   "execution_count": 29,
   "metadata": {},
   "outputs": [],
   "source": []
  },
  {
   "cell_type": "markdown",
   "metadata": {},
   "source": [
    "<li> iPython 的 Notebook可以參考：\n",
    "http://yenlungblog.wordpress.com/2013/11/21/python-ipython-%E7%9A%84-notebook-%E7%95%8C%E9%9D%A2/</li>\n",
    "<li> sympy可以參考：\n",
    "http://www.gtwang.org/2012/12/sympy1.html </li>\n",
    "<li> 繪圖指令請參考：\n",
    "http://onionys.blogspot.tw/2012/01/python-matplotlib.html </li>\n",
    "<li>更多的matplotlib：\n",
    "    http://nbviewer.ipython.org/github/c3h3/NCCU-PyData-Courses-2013Spring/blob/master/Lecture4/visualization/BasicMatplotlib.ipynb</li>\n",
    "<li> 於window中安裝python請參考：\n",
    "http://nbviewer.ipython.org/github/ycshu/Github/blob/master/introduction.ipynb </li>"
   ]
  },
  {
   "cell_type": "code",
   "execution_count": 29,
   "metadata": {},
   "outputs": [],
   "source": []
  }
 ],
 "metadata": {
  "kernelspec": {
   "display_name": "Python 3",
   "language": "python",
   "name": "python3"
  },
  "language_info": {
   "codemirror_mode": {
    "name": "ipython",
    "version": 3
   },
   "file_extension": ".py",
   "mimetype": "text/x-python",
   "name": "python",
   "nbconvert_exporter": "python",
   "pygments_lexer": "ipython3",
   "version": "3.6.4"
  }
 },
 "nbformat": 4,
 "nbformat_minor": 1
}
